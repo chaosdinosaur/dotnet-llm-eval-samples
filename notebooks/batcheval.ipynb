{
 "cells": [
  {
   "cell_type": "code",
   "execution_count": 7,
   "metadata": {
    "dotnet_interactive": {
     "language": "pwsh"
    },
    "polyglot_notebook": {
     "kernelName": "pwsh"
    },
    "vscode": {
     "languageId": "polyglot-notebook"
    }
   },
   "outputs": [
    {
     "name": "stdout",
     "output_type": "stream",
     "text": [
      "MSBuild version 17.8.3+195e7f5a3 for .NET\n",
      "  Determining projects to restore...\n",
      "  All projects are up-to-date for restore.\n",
      "  UserStoryGenerator -> C:\\Users\\mapach\\repos\\dotnet-llm-eval-samples\\examples\\userstorygenerator\\UserStoryGenerator\\bin\\Debug\\net8.0\\UserStoryGenerator.dll\n",
      "\n",
      "Build succeeded.\n",
      "    0 Warning(s)\n",
      "    0 Error(s)\n",
      "\n",
      "Time Elapsed 00:00:02.29\n",
      "MSBuild version 17.8.3+195e7f5a3 for .NET\n",
      "  Determining projects to restore...\n",
      "  Restored C:\\Users\\mapach\\repos\\dotnet-llm-eval-samples\\examples\\batcheval\\library\\BatchEvalCore.csproj (in 419 ms).\n",
      "  BatchEvalCore -> C:\\Users\\mapach\\repos\\dotnet-llm-eval-samples\\examples\\batcheval\\library\\bin\\Debug\\net8.0\\BatchEvalCore.dll\n",
      "\n",
      "Build succeeded.\n",
      "    0 Warning(s)\n",
      "    0 Error(s)\n",
      "\n",
      "Time Elapsed 00:00:03.27\n"
     ]
    }
   ],
   "source": [
    "dotnet build ../examples/userstorygenerator/UserStoryGenerator\n",
    "dotnet build ../examples/batcheval/library"
   ]
  },
  {
   "cell_type": "code",
   "execution_count": 28,
   "metadata": {
    "dotnet_interactive": {
     "language": "csharp"
    },
    "polyglot_notebook": {
     "kernelName": "csharp"
    },
    "vscode": {
     "languageId": "polyglot-notebook"
    }
   },
   "outputs": [
    {
     "data": {
      "text/html": [
       "<div><div><strong>Restore sources</strong><ul><li><span>https://api.nuget.org/v3/index.json</span></li></ul></div><div></div><div><strong>Installed Packages</strong><ul><li><span>Microsoft.SemanticKernel, 1.0.1</span></li><li><span>OpenTelemetry.Exporter.Console, 1.7.0</span></li></ul></div></div>"
      ]
     },
     "metadata": {},
     "output_type": "display_data"
    }
   ],
   "source": [
    "#i \"nuget:https://api.nuget.org/v3/index.json\" \n",
    "#r \"nuget:Microsoft.SemanticKernel, 1.0.1\"\n",
    "#r \"nuget:OpenTelemetry.Exporter.Console, 1.7.0\"\n",
    "#r \"../examples/userstorygenerator/UserStoryGenerator/bin/Debug/net8.0/UserStoryGenerator.dll\"\n",
    "#r \"../examples/batcheval/library/bin/Debug/net8.0/BatchEvalCore.dll\"\n",
    "\n",
    "using Microsoft.SemanticKernel;\n",
    "using UserStoryGenerator;\n",
    "using BatchEval.Core;"
   ]
  },
  {
   "cell_type": "code",
   "execution_count": 10,
   "metadata": {
    "dotnet_interactive": {
     "language": "csharp"
    },
    "polyglot_notebook": {
     "kernelName": "csharp"
    },
    "vscode": {
     "languageId": "polyglot-notebook"
    }
   },
   "outputs": [],
   "source": [
    "var builder = Kernel.CreateBuilder();\n",
    "\n",
    "builder.AddAzureOpenAIChatCompletion(\n",
    "        \"gpt-4\",\n",
    "        \"<openAiEndpoint>\",\n",
    "        \"<openAiKey>\");\n",
    "\n",
    "var kernel = builder.Build();"
   ]
  },
  {
   "cell_type": "code",
   "execution_count": 11,
   "metadata": {
    "vscode": {
     "languageId": "polyglot-notebook"
    }
   },
   "outputs": [],
   "source": [
    "internal struct UserInput\n",
    "{\n",
    "    public string Description { get; set; }\n",
    "    public string ProjectContext { get; set; }\n",
    "    public string Persona { get; set; }\n",
    "}"
   ]
  },
  {
   "cell_type": "code",
   "execution_count": 25,
   "metadata": {
    "dotnet_interactive": {
     "language": "csharp"
    },
    "polyglot_notebook": {
     "kernelName": "csharp"
    },
    "vscode": {
     "languageId": "polyglot-notebook"
    }
   },
   "outputs": [
    {
     "data": {
      "text/html": [
       "<table><thead><tr><th><i>index</i></th><th>value</th></tr></thead><tbody><tr><td>0</td><td><details class=\"dni-treeview\"><summary><span class=\"dni-code-hint\"><code>Submission#9+UserInput</code></span></summary><div><table><thead><tr></tr></thead><tbody><tr><td>Description</td><td><div class=\"dni-plaintext\"><pre>Learn to swim</pre></div></td></tr><tr><td>ProjectContext</td><td><div class=\"dni-plaintext\"><pre>A pond</pre></div></td></tr><tr><td>Persona</td><td><div class=\"dni-plaintext\"><pre>Duck</pre></div></td></tr></tbody></table></div></details></td></tr><tr><td>1</td><td><details class=\"dni-treeview\"><summary><span class=\"dni-code-hint\"><code>Submission#9+UserInput</code></span></summary><div><table><thead><tr></tr></thead><tbody><tr><td>Description</td><td><div class=\"dni-plaintext\"><pre>Build a sandcastle</pre></div></td></tr><tr><td>ProjectContext</td><td><div class=\"dni-plaintext\"><pre>At the beach</pre></div></td></tr><tr><td>Persona</td><td><div class=\"dni-plaintext\"><pre>Child</pre></div></td></tr></tbody></table></div></details></td></tr><tr><td>2</td><td><details class=\"dni-treeview\"><summary><span class=\"dni-code-hint\"><code>Submission#9+UserInput</code></span></summary><div><table><thead><tr></tr></thead><tbody><tr><td>Description</td><td><div class=\"dni-plaintext\"><pre>Write a novel</pre></div></td></tr><tr><td>ProjectContext</td><td><div class=\"dni-plaintext\"><pre>In a quiet library</pre></div></td></tr><tr><td>Persona</td><td><div class=\"dni-plaintext\"><pre>Author</pre></div></td></tr></tbody></table></div></details></td></tr><tr><td>3</td><td><details class=\"dni-treeview\"><summary><span class=\"dni-code-hint\"><code>Submission#9+UserInput</code></span></summary><div><table><thead><tr></tr></thead><tbody><tr><td>Description</td><td><div class=\"dni-plaintext\"><pre>Create a new recipe</pre></div></td></tr><tr><td>ProjectContext</td><td><div class=\"dni-plaintext\"><pre>In the kitchen</pre></div></td></tr><tr><td>Persona</td><td><div class=\"dni-plaintext\"><pre>Chef</pre></div></td></tr></tbody></table></div></details></td></tr><tr><td>4</td><td><details class=\"dni-treeview\"><summary><span class=\"dni-code-hint\"><code>Submission#9+UserInput</code></span></summary><div><table><thead><tr></tr></thead><tbody><tr><td>Description</td><td><div class=\"dni-plaintext\"><pre>Solve a complex math problem</pre></div></td></tr><tr><td>ProjectContext</td><td><div class=\"dni-plaintext\"><pre>In a classroom</pre></div></td></tr><tr><td>Persona</td><td><div class=\"dni-plaintext\"><pre>Student</pre></div></td></tr></tbody></table></div></details></td></tr><tr><td>5</td><td><details class=\"dni-treeview\"><summary><span class=\"dni-code-hint\"><code>Submission#9+UserInput</code></span></summary><div><table><thead><tr></tr></thead><tbody><tr><td>Description</td><td><div class=\"dni-plaintext\"><pre>Design a user interface</pre></div></td></tr><tr><td>ProjectContext</td><td><div class=\"dni-plaintext\"><pre>At a tech company</pre></div></td></tr><tr><td>Persona</td><td><div class=\"dni-plaintext\"><pre>Designer</pre></div></td></tr></tbody></table></div></details></td></tr><tr><td>6</td><td><details class=\"dni-treeview\"><summary><span class=\"dni-code-hint\"><code>Submission#9+UserInput</code></span></summary><div><table><thead><tr></tr></thead><tbody><tr><td>Description</td><td><div class=\"dni-plaintext\"><pre>Plant a garden</pre></div></td></tr><tr><td>ProjectContext</td><td><div class=\"dni-plaintext\"><pre>In the backyard</pre></div></td></tr><tr><td>Persona</td><td><div class=\"dni-plaintext\"><pre>Gardener</pre></div></td></tr></tbody></table></div></details></td></tr><tr><td>7</td><td><details class=\"dni-treeview\"><summary><span class=\"dni-code-hint\"><code>Submission#9+UserInput</code></span></summary><div><table><thead><tr></tr></thead><tbody><tr><td>Description</td><td><div class=\"dni-plaintext\"><pre>Train for a marathon</pre></div></td></tr><tr><td>ProjectContext</td><td><div class=\"dni-plaintext\"><pre>On the running track</pre></div></td></tr><tr><td>Persona</td><td><div class=\"dni-plaintext\"><pre>Runner</pre></div></td></tr></tbody></table></div></details></td></tr><tr><td>8</td><td><details class=\"dni-treeview\"><summary><span class=\"dni-code-hint\"><code>Submission#9+UserInput</code></span></summary><div><table><thead><tr></tr></thead><tbody><tr><td>Description</td><td><div class=\"dni-plaintext\"><pre>Paint a masterpiece</pre></div></td></tr><tr><td>ProjectContext</td><td><div class=\"dni-plaintext\"><pre>In an art studio</pre></div></td></tr><tr><td>Persona</td><td><div class=\"dni-plaintext\"><pre>Artist</pre></div></td></tr></tbody></table></div></details></td></tr><tr><td>9</td><td><details class=\"dni-treeview\"><summary><span class=\"dni-code-hint\"><code>Submission#9+UserInput</code></span></summary><div><table><thead><tr></tr></thead><tbody><tr><td>Description</td><td><div class=\"dni-plaintext\"><pre>Cook a gourmet meal</pre></div></td></tr><tr><td>ProjectContext</td><td><div class=\"dni-plaintext\"><pre>In a fancy restaurant</pre></div></td></tr><tr><td>Persona</td><td><div class=\"dni-plaintext\"><pre>Chef</pre></div></td></tr></tbody></table></div></details></td></tr><tr><td>10</td><td><details class=\"dni-treeview\"><summary><span class=\"dni-code-hint\"><code>Submission#9+UserInput</code></span></summary><div><table><thead><tr></tr></thead><tbody><tr><td>Description</td><td><div class=\"dni-plaintext\"><pre>Teach a programming language</pre></div></td></tr><tr><td>ProjectContext</td><td><div class=\"dni-plaintext\"><pre>In a coding bootcamp</pre></div></td></tr><tr><td>Persona</td><td><div class=\"dni-plaintext\"><pre>Instructor</pre></div></td></tr></tbody></table></div></details></td></tr><tr><td>11</td><td><details class=\"dni-treeview\"><summary><span class=\"dni-code-hint\"><code>Submission#9+UserInput</code></span></summary><div><table><thead><tr></tr></thead><tbody><tr><td>Description</td><td><div class=\"dni-plaintext\"><pre>Plan a surprise party</pre></div></td></tr><tr><td>ProjectContext</td><td><div class=\"dni-plaintext\"><pre>For a friend&#39;s birthday</pre></div></td></tr><tr><td>Persona</td><td><div class=\"dni-plaintext\"><pre>Party Planner</pre></div></td></tr></tbody></table></div></details></td></tr><tr><td>12</td><td><details class=\"dni-treeview\"><summary><span class=\"dni-code-hint\"><code>Submission#9+UserInput</code></span></summary><div><table><thead><tr></tr></thead><tbody><tr><td>Description</td><td><div class=\"dni-plaintext\"><pre>Explore a new hiking trail</pre></div></td></tr><tr><td>ProjectContext</td><td><div class=\"dni-plaintext\"><pre>In the mountains</pre></div></td></tr><tr><td>Persona</td><td><div class=\"dni-plaintext\"><pre>Hiker</pre></div></td></tr></tbody></table></div></details></td></tr><tr><td>13</td><td><details class=\"dni-treeview\"><summary><span class=\"dni-code-hint\"><code>Submission#9+UserInput</code></span></summary><div><table><thead><tr></tr></thead><tbody><tr><td>Description</td><td><div class=\"dni-plaintext\"><pre>Build a treehouse</pre></div></td></tr><tr><td>ProjectContext</td><td><div class=\"dni-plaintext\"><pre>In the backyard</pre></div></td></tr><tr><td>Persona</td><td><div class=\"dni-plaintext\"><pre>DIY Enthusiast</pre></div></td></tr></tbody></table></div></details></td></tr><tr><td>14</td><td><details class=\"dni-treeview\"><summary><span class=\"dni-code-hint\"><code>Submission#9+UserInput</code></span></summary><div><table><thead><tr></tr></thead><tbody><tr><td>Description</td><td><div class=\"dni-plaintext\"><pre>Learn a new language</pre></div></td></tr><tr><td>ProjectContext</td><td><div class=\"dni-plaintext\"><pre>In a language school</pre></div></td></tr><tr><td>Persona</td><td><div class=\"dni-plaintext\"><pre>Language Learner</pre></div></td></tr></tbody></table></div></details></td></tr><tr><td>15</td><td><details class=\"dni-treeview\"><summary><span class=\"dni-code-hint\"><code>Submission#9+UserInput</code></span></summary><div><table><thead><tr></tr></thead><tbody><tr><td>Description</td><td><div class=\"dni-plaintext\"><pre>Develop a mobile app</pre></div></td></tr><tr><td>ProjectContext</td><td><div class=\"dni-plaintext\"><pre>In a software company</pre></div></td></tr><tr><td>Persona</td><td><div class=\"dni-plaintext\"><pre>Developer</pre></div></td></tr></tbody></table></div></details></td></tr><tr><td>16</td><td><details class=\"dni-treeview\"><summary><span class=\"dni-code-hint\"><code>Submission#9+UserInput</code></span></summary><div><table><thead><tr></tr></thead><tbody><tr><td>Description</td><td><div class=\"dni-plaintext\"><pre>Organize a community cleanup</pre></div></td></tr><tr><td>ProjectContext</td><td><div class=\"dni-plaintext\"><pre>In a local neighborhood</pre></div></td></tr><tr><td>Persona</td><td><div class=\"dni-plaintext\"><pre>Community Organizer</pre></div></td></tr></tbody></table></div></details></td></tr><tr><td>17</td><td><details class=\"dni-treeview\"><summary><span class=\"dni-code-hint\"><code>Submission#9+UserInput</code></span></summary><div><table><thead><tr></tr></thead><tbody><tr><td>Description</td><td><div class=\"dni-plaintext\"><pre>Create a budget plan</pre></div></td></tr><tr><td>ProjectContext</td><td><div class=\"dni-plaintext\"><pre>For a small business</pre></div></td></tr><tr><td>Persona</td><td><div class=\"dni-plaintext\"><pre>Accountant</pre></div></td></tr></tbody></table></div></details></td></tr><tr><td>18</td><td><details class=\"dni-treeview\"><summary><span class=\"dni-code-hint\"><code>Submission#9+UserInput</code></span></summary><div><table><thead><tr></tr></thead><tbody><tr><td>Description</td><td><div class=\"dni-plaintext\"><pre>Play a musical instrument</pre></div></td></tr><tr><td>ProjectContext</td><td><div class=\"dni-plaintext\"><pre>In a concert hall</pre></div></td></tr><tr><td>Persona</td><td><div class=\"dni-plaintext\"><pre>Musician</pre></div></td></tr></tbody></table></div></details></td></tr><tr><td>19</td><td><details class=\"dni-treeview\"><summary><span class=\"dni-code-hint\"><code>Submission#9+UserInput</code></span></summary><div><table><thead><tr></tr></thead><tbody><tr><td>Description</td><td><div class=\"dni-plaintext\"><pre>Write a research paper</pre></div></td></tr><tr><td>ProjectContext</td><td><div class=\"dni-plaintext\"><pre>In a university</pre></div></td></tr><tr><td>Persona</td><td><div class=\"dni-plaintext\"><pre>Researcher</pre></div></td></tr></tbody></table></div></details></td></tr><tr><td colspan=\"2\"><i>(38 more)</i></td></tr></tbody></table><style>\r\n",
       ".dni-code-hint {\r\n",
       "    font-style: italic;\r\n",
       "    overflow: hidden;\r\n",
       "    white-space: nowrap;\r\n",
       "}\r\n",
       ".dni-treeview {\r\n",
       "    white-space: nowrap;\r\n",
       "}\r\n",
       ".dni-treeview td {\r\n",
       "    vertical-align: top;\r\n",
       "    text-align: start;\r\n",
       "}\r\n",
       "details.dni-treeview {\r\n",
       "    padding-left: 1em;\r\n",
       "}\r\n",
       "table td {\r\n",
       "    text-align: start;\r\n",
       "}\r\n",
       "table tr { \r\n",
       "    vertical-align: top; \r\n",
       "    margin: 0em 0px;\r\n",
       "}\r\n",
       "table tr td pre \r\n",
       "{ \r\n",
       "    vertical-align: top !important; \r\n",
       "    margin: 0em 0px !important;\r\n",
       "} \r\n",
       "table th {\r\n",
       "    text-align: start;\r\n",
       "}\r\n",
       "</style>"
      ]
     },
     "metadata": {},
     "output_type": "display_data"
    }
   ],
   "source": [
    "var dataFilePath = \"assets/data.jsonl\";\n",
    "var preview = await BatchEval.Core.JsonlUtils.Preview<UserInput>(dataFilePath);\n",
    "preview"
   ]
  },
  {
   "cell_type": "code",
   "execution_count": 30,
   "metadata": {
    "dotnet_interactive": {
     "language": "csharp"
    },
    "polyglot_notebook": {
     "kernelName": "csharp"
    },
    "vscode": {
     "languageId": "polyglot-notebook"
    }
   },
   "outputs": [],
   "source": [
    "internal class UserStoryCreator : BatchEval.Core.IInputProcessor<UserInput>\n",
    "{\n",
    "    private readonly UserStorySkill userStoryGenerator;\n",
    "\n",
    "    public UserStoryCreator(Kernel kernel)\n",
    "    {\n",
    "        this.userStoryGenerator = UserStorySkill.Create(kernel);\n",
    "    }\n",
    "\n",
    "    public async Task<ModelOutput> Process(UserInput userInput)\n",
    "    {\n",
    "        var userStory = await userStoryGenerator.GetUserStory(\n",
    "            userInput.Description,\n",
    "            userInput.ProjectContext,\n",
    "            userInput.Persona);\n",
    "\n",
    "        return new ModelOutput() {\n",
    "            Input = $\"Generate a user story for {userInput.Persona} so it can {userInput.Description}\",\n",
    "            Output = $\"{userStory!.Title} - {userStory!.Description}\"\n",
    "        };\n",
    "    }\n",
    "}"
   ]
  },
  {
   "cell_type": "code",
   "execution_count": 31,
   "metadata": {
    "dotnet_interactive": {
     "language": "csharp"
    },
    "polyglot_notebook": {
     "kernelName": "csharp"
    },
    "vscode": {
     "languageId": "polyglot-notebook"
    }
   },
   "outputs": [
    {
     "name": "stdout",
     "output_type": "stream",
     "text": [
      "Q: Generate a user story for Duck so it can Learn to swim\n",
      "A: Learn to Swim in the Pond - As a Duck, I want to learn to swim in the pond, so I can move around freely and find food\n",
      "E: length S: 117\n",
      "Resource associated with Metric:\n",
      "    telemetry.sdk.name: opentelemetry\n",
      "    telemetry.sdk.language: dotnet\n",
      "    telemetry.sdk.version: 1.7.0\n",
      "    service.name: unknown_service:dotnet\n",
      "\n",
      "Metric Name: prompt.counter, Meter: AzDoCopilotTests\n",
      "(2024-01-08T22:45:48.0733088Z, 2024-01-08T22:45:58.0702404Z] LongSum\n",
      "Value: 1\n",
      "\n",
      "Metric Name: length.score, Meter: AzDoCopilotTests\n",
      "(2024-01-08T22:45:48.0745682Z, 2024-01-08T22:45:58.0704431Z] Histogram\n",
      "Value: Sum: 117 Count: 1 Min: 117 Max: 117 \n",
      "(-Infinity,0]:0\n",
      "(0,5]:0\n",
      "(5,10]:0\n",
      "(10,25]:0\n",
      "(25,50]:0\n",
      "(50,75]:0\n",
      "(75,100]:0\n",
      "(100,250]:1\n",
      "(250,500]:0\n",
      "(500,750]:0\n",
      "(750,1000]:0\n",
      "(1000,2500]:0\n",
      "(2500,5000]:0\n",
      "(5000,7500]:0\n",
      "(7500,10000]:0\n",
      "(10000,+Infinity]:0\n",
      "\n"
     ]
    },
    {
     "ename": "Error",
     "evalue": "Command cancelled.",
     "output_type": "error",
     "traceback": [
      "Command cancelled."
     ]
    }
   ],
   "source": [
    "//var kernelFunctions = kernel.CreatePluginFromPromptDirectory(\"Prompts\");\n",
    "\n",
    "var batchEval = new BatchEval<UserInput>();\n",
    "\n",
    "batchEval\n",
    "    //.AddEvaluator(new PromptScoreEval(\"coherence\", kernel, kernelFunctions[\"coherence\"]))\n",
    "    .AddEvaluator(new LenghtEval());\n",
    "\n",
    "await batchEval\n",
    "    .WithInputProcessor(new UserStoryCreator(kernel))\n",
    "    .WithJsonl(dataFilePath)\n",
    "    .Run();"
   ]
  }
 ],
 "metadata": {
  "language_info": {
   "name": "python"
  }
 },
 "nbformat": 4,
 "nbformat_minor": 2
}
